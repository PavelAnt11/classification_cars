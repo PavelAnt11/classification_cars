{
 "cells": [
  {
   "cell_type": "markdown",
   "metadata": {},
   "source": [
    "Проверено 4 модели\n",
    "1. DecisionTree - f1-score min 0.89 для класса внедорожник\n",
    "2. DecisionTree grid - f1-score min 0.95 для класса внедорожник\n",
    "3. RandomForest - f1-score min - 0.95 для класса внедорожник\n",
    "4. KNN - f1-score min 0,96   для класса хэтчбек \\ \n",
    "Выбрал  метрический алгоритм KNN среди рассмотренных т.к минимальное гармоническое среднее выше чем у остальных алгоритмов"
   ]
  },
  {
   "cell_type": "markdown",
   "metadata": {},
   "source": [
    "### Вам предлагается набор данных, содержащий комплектации различных моделей автомобилей и их характеристики.\n",
    "#### Мы предлагаем произвести с данным датасетом следующие операции: \n",
    "* 1. Анализ данных \n",
    "* 2. Фильтрация \n",
    "* 3. Преобразование переменных \n",
    "* 4. Классификация моделей по типу кузова (без подклассов, колонка type_car): - Седан - Хетчбек - Кроссовер - Внедорожник. \n",
    "#### Обосновать выбранный подход/метод машинного обучения. \n",
    "\n",
    "Описать способ оценки качества модели машинного обучения.\n",
    "Необходимо детально описать все выполненные шаги.\n",
    "Данное задание необходимо выполнить только на языке Python в Jupyter notebook"
   ]
  },
  {
   "cell_type": "code",
   "execution_count": 1,
   "metadata": {},
   "outputs": [],
   "source": [
    "#Импорт необходимых библиотек и модулей\n",
    "import pandas as pd\n",
    "import gspread\n",
    "from oauth2client.service_account import ServiceAccountCredentials"
   ]
  },
  {
   "cell_type": "code",
   "execution_count": 2,
   "metadata": {},
   "outputs": [],
   "source": [
    "#Настройка вывода кол. колонок\n",
    "pd.set_option(\"display.max_columns\",30)"
   ]
  },
  {
   "cell_type": "markdown",
   "metadata": {},
   "source": [
    "https://socraticowl.com/post/integrate-google-sheets-and-jupyter-notebooks/"
   ]
  },
  {
   "cell_type": "code",
   "execution_count": 2,
   "metadata": {},
   "outputs": [],
   "source": [
    "#получение доступа к файлу через API Google sheets с помощью сервисного аккаунта\n",
    "scope = ['https://spreadsheets.google.com/feeds']\n",
    "credentials = ServiceAccountCredentials.from_json_keyfile_name('./credet_2.json', scope)\n",
    "gc = gspread.authorize(credentials)\n",
    "spreadsheet_key = '1hRg7tVl58adtYJElvQY3m8pSc60hGgX6NgsLe-bG7ds'\n",
    "book = gc.open_by_key(spreadsheet_key)\n",
    "worksheet = book.worksheet(\"Sheet1\")\n",
    "table = worksheet.get_all_values()"
   ]
  },
  {
   "cell_type": "code",
   "execution_count": 51,
   "metadata": {},
   "outputs": [],
   "source": [
    "#Считываение данных\n",
    "df = pd.DataFrame(table[1:], columns=table[0])    "
   ]
  },
  {
   "cell_type": "code",
   "execution_count": 4,
   "metadata": {},
   "outputs": [
    {
     "data": {
      "text/html": [
       "<div>\n",
       "<style scoped>\n",
       "    .dataframe tbody tr th:only-of-type {\n",
       "        vertical-align: middle;\n",
       "    }\n",
       "\n",
       "    .dataframe tbody tr th {\n",
       "        vertical-align: top;\n",
       "    }\n",
       "\n",
       "    .dataframe thead th {\n",
       "        text-align: right;\n",
       "    }\n",
       "</style>\n",
       "<table border=\"1\" class=\"dataframe\">\n",
       "  <thead>\n",
       "    <tr style=\"text-align: right;\">\n",
       "      <th></th>\n",
       "      <th>brand</th>\n",
       "      <th>model</th>\n",
       "      <th>complect</th>\n",
       "      <th>type_car</th>\n",
       "      <th>seats</th>\n",
       "      <th>doors</th>\n",
       "      <th>Двигатель</th>\n",
       "      <th>Мощность</th>\n",
       "      <th>Крутящий момент двигателя</th>\n",
       "      <th>Коробка передач</th>\n",
       "      <th>...</th>\n",
       "      <th>Разгон до сотни</th>\n",
       "      <th>Максимальная скорость</th>\n",
       "      <th>Расход топлива (л/100 км)\\nгород / трасса / смешанный</th>\n",
       "      <th>Дорожный просвет</th>\n",
       "      <th>Габариты (длина × ширина × высота)</th>\n",
       "      <th>Колёсная база</th>\n",
       "      <th>Объём багажника</th>\n",
       "      <th>Объём багажника максимальный</th>\n",
       "      <th>Объём топливного бака</th>\n",
       "      <th>Масса автомобиля</th>\n",
       "    </tr>\n",
       "  </thead>\n",
       "  <tbody>\n",
       "    <tr>\n",
       "      <th>0</th>\n",
       "      <td>Audi</td>\n",
       "      <td>A3 Sedan</td>\n",
       "      <td>1.4 TFSI 7AMT</td>\n",
       "      <td>Седан класса C</td>\n",
       "      <td>5</td>\n",
       "      <td>4</td>\n",
       "      <td>бензиновый (1395 см³)</td>\n",
       "      <td>150 л. с.</td>\n",
       "      <td>250 Н·м</td>\n",
       "      <td>роботизированная (7 ступеней)</td>\n",
       "      <td>...</td>\n",
       "      <td>8.2 секунды</td>\n",
       "      <td>224 км/ч</td>\n",
       "      <td>5.9 / 4.1 / 4.8</td>\n",
       "      <td>165 мм</td>\n",
       "      <td>4458 × 1796 × 1416</td>\n",
       "      <td>2637 мм</td>\n",
       "      <td>425 л</td>\n",
       "      <td>880 л</td>\n",
       "      <td>50 л</td>\n",
       "      <td>1320 кг</td>\n",
       "    </tr>\n",
       "    <tr>\n",
       "      <th>1</th>\n",
       "      <td>Audi</td>\n",
       "      <td>A3 Sedan</td>\n",
       "      <td>sport 1.4 TFSI 7AMT</td>\n",
       "      <td>Седан класса C</td>\n",
       "      <td>5</td>\n",
       "      <td>4</td>\n",
       "      <td>бензиновый (1395 см³)</td>\n",
       "      <td>150 л. с.</td>\n",
       "      <td>250 Н·м</td>\n",
       "      <td>роботизированная (7 ступеней)</td>\n",
       "      <td>...</td>\n",
       "      <td>8.2 секунды</td>\n",
       "      <td>224 км/ч</td>\n",
       "      <td>5.9 / 4.1 / 4.8</td>\n",
       "      <td>165 мм</td>\n",
       "      <td>4458 × 1796 × 1416</td>\n",
       "      <td>2637 мм</td>\n",
       "      <td>425 л</td>\n",
       "      <td>880 л</td>\n",
       "      <td>50 л</td>\n",
       "      <td>1320 кг</td>\n",
       "    </tr>\n",
       "    <tr>\n",
       "      <th>2</th>\n",
       "      <td>Audi</td>\n",
       "      <td>A3 Sedan</td>\n",
       "      <td>2.0 TFSI 7AMT</td>\n",
       "      <td>Седан класса C</td>\n",
       "      <td>5</td>\n",
       "      <td>4</td>\n",
       "      <td>бензиновый (1984 см³)</td>\n",
       "      <td>190 л. с.</td>\n",
       "      <td>320 Н·м</td>\n",
       "      <td>роботизированная (7 ступеней)</td>\n",
       "      <td>...</td>\n",
       "      <td>6.8 секунды</td>\n",
       "      <td>250 км/ч</td>\n",
       "      <td>7.2 / 4.7 / 5.6</td>\n",
       "      <td>165 мм</td>\n",
       "      <td>4458 × 1796 × 1416</td>\n",
       "      <td>2637 мм</td>\n",
       "      <td>425 л</td>\n",
       "      <td>880 л</td>\n",
       "      <td>50 л</td>\n",
       "      <td>1395 кг</td>\n",
       "    </tr>\n",
       "  </tbody>\n",
       "</table>\n",
       "<p>3 rows × 21 columns</p>\n",
       "</div>"
      ],
      "text/plain": [
       "  brand     model             complect        type_car seats doors  \\\n",
       "0  Audi  A3 Sedan        1.4 TFSI 7AMT  Седан класса C     5     4   \n",
       "1  Audi  A3 Sedan  sport 1.4 TFSI 7AMT  Седан класса C     5     4   \n",
       "2  Audi  A3 Sedan        2.0 TFSI 7AMT  Седан класса C     5     4   \n",
       "\n",
       "               Двигатель   Мощность Крутящий момент двигателя  \\\n",
       "0  бензиновый (1395 см³)  150 л. с.                   250 Н·м   \n",
       "1  бензиновый (1395 см³)  150 л. с.                   250 Н·м   \n",
       "2  бензиновый (1984 см³)  190 л. с.                   320 Н·м   \n",
       "\n",
       "                 Коробка передач  ... Разгон до сотни Максимальная скорость  \\\n",
       "0  роботизированная (7 ступеней)  ...     8.2 секунды              224 км/ч   \n",
       "1  роботизированная (7 ступеней)  ...     8.2 секунды              224 км/ч   \n",
       "2  роботизированная (7 ступеней)  ...     6.8 секунды              250 км/ч   \n",
       "\n",
       "  Расход топлива (л/100 км)\\nгород / трасса / смешанный Дорожный просвет  \\\n",
       "0                                    5.9 / 4.1 / 4.8              165 мм   \n",
       "1                                    5.9 / 4.1 / 4.8              165 мм   \n",
       "2                                    7.2 / 4.7 / 5.6              165 мм   \n",
       "\n",
       "  Габариты (длина × ширина × высота) Колёсная база Объём багажника  \\\n",
       "0                 4458 × 1796 × 1416       2637 мм           425 л   \n",
       "1                 4458 × 1796 × 1416       2637 мм           425 л   \n",
       "2                 4458 × 1796 × 1416       2637 мм           425 л   \n",
       "\n",
       "  Объём багажника максимальный Объём топливного бака Масса автомобиля  \n",
       "0                        880 л                  50 л          1320 кг  \n",
       "1                        880 л                  50 л          1320 кг  \n",
       "2                        880 л                  50 л          1395 кг  \n",
       "\n",
       "[3 rows x 21 columns]"
      ]
     },
     "execution_count": 4,
     "metadata": {},
     "output_type": "execute_result"
    }
   ],
   "source": [
    "#Просмотр прочитанных данных и их корректность\n",
    "df.head(3)"
   ]
  },
  {
   "cell_type": "code",
   "execution_count": 6,
   "metadata": {},
   "outputs": [
    {
     "name": "stdout",
     "output_type": "stream",
     "text": [
      "Количествно строк:  1703\n",
      "Количествно столбцов:  21\n"
     ]
    }
   ],
   "source": [
    "print('Количествно строк: ' ,df.shape[0])\n",
    "print('Количествно столбцов: ' ,df.shape[1])"
   ]
  },
  {
   "cell_type": "code",
   "execution_count": 8,
   "metadata": {},
   "outputs": [
    {
     "data": {
      "text/html": [
       "<div>\n",
       "<style scoped>\n",
       "    .dataframe tbody tr th:only-of-type {\n",
       "        vertical-align: middle;\n",
       "    }\n",
       "\n",
       "    .dataframe tbody tr th {\n",
       "        vertical-align: top;\n",
       "    }\n",
       "\n",
       "    .dataframe thead th {\n",
       "        text-align: right;\n",
       "    }\n",
       "</style>\n",
       "<table border=\"1\" class=\"dataframe\">\n",
       "  <thead>\n",
       "    <tr style=\"text-align: right;\">\n",
       "      <th></th>\n",
       "      <th>count</th>\n",
       "      <th>unique</th>\n",
       "      <th>top</th>\n",
       "      <th>freq</th>\n",
       "    </tr>\n",
       "  </thead>\n",
       "  <tbody>\n",
       "    <tr>\n",
       "      <th>brand</th>\n",
       "      <td>1703</td>\n",
       "      <td>27</td>\n",
       "      <td>Land Rover</td>\n",
       "      <td>166</td>\n",
       "    </tr>\n",
       "    <tr>\n",
       "      <th>model</th>\n",
       "      <td>1703</td>\n",
       "      <td>246</td>\n",
       "      <td>Range Rover Velar</td>\n",
       "      <td>34</td>\n",
       "    </tr>\n",
       "    <tr>\n",
       "      <th>complect</th>\n",
       "      <td>1703</td>\n",
       "      <td>1400</td>\n",
       "      <td>Sport 40 TFSI 7AMT</td>\n",
       "      <td>6</td>\n",
       "    </tr>\n",
       "    <tr>\n",
       "      <th>type_car</th>\n",
       "      <td>1703</td>\n",
       "      <td>37</td>\n",
       "      <td>Компактный кроссовер</td>\n",
       "      <td>379</td>\n",
       "    </tr>\n",
       "    <tr>\n",
       "      <th>seats</th>\n",
       "      <td>1703</td>\n",
       "      <td>8</td>\n",
       "      <td>5</td>\n",
       "      <td>1507</td>\n",
       "    </tr>\n",
       "    <tr>\n",
       "      <th>doors</th>\n",
       "      <td>1703</td>\n",
       "      <td>7</td>\n",
       "      <td>5</td>\n",
       "      <td>1027</td>\n",
       "    </tr>\n",
       "    <tr>\n",
       "      <th>Двигатель</th>\n",
       "      <td>1703</td>\n",
       "      <td>116</td>\n",
       "      <td>бензиновый (1598 см³)</td>\n",
       "      <td>138</td>\n",
       "    </tr>\n",
       "    <tr>\n",
       "      <th>Мощность</th>\n",
       "      <td>1703</td>\n",
       "      <td>130</td>\n",
       "      <td>150 л. с.</td>\n",
       "      <td>274</td>\n",
       "    </tr>\n",
       "    <tr>\n",
       "      <th>Крутящий момент двигателя</th>\n",
       "      <td>1703</td>\n",
       "      <td>131</td>\n",
       "      <td>320 Н·м</td>\n",
       "      <td>112</td>\n",
       "    </tr>\n",
       "    <tr>\n",
       "      <th>Коробка передач</th>\n",
       "      <td>1703</td>\n",
       "      <td>16</td>\n",
       "      <td>автоматическая (8 ступеней)</td>\n",
       "      <td>560</td>\n",
       "    </tr>\n",
       "    <tr>\n",
       "      <th>Привод</th>\n",
       "      <td>1703</td>\n",
       "      <td>3</td>\n",
       "      <td>полный</td>\n",
       "      <td>1024</td>\n",
       "    </tr>\n",
       "    <tr>\n",
       "      <th>Разгон до сотни</th>\n",
       "      <td>1703</td>\n",
       "      <td>112</td>\n",
       "      <td>нет данных</td>\n",
       "      <td>71</td>\n",
       "    </tr>\n",
       "    <tr>\n",
       "      <th>Максимальная скорость</th>\n",
       "      <td>1703</td>\n",
       "      <td>99</td>\n",
       "      <td>250 км/ч</td>\n",
       "      <td>209</td>\n",
       "    </tr>\n",
       "    <tr>\n",
       "      <th>Расход топлива (л/100 км)\\nгород / трасса / смешанный</th>\n",
       "      <td>1703</td>\n",
       "      <td>558</td>\n",
       "      <td>0 / 0 / 0</td>\n",
       "      <td>48</td>\n",
       "    </tr>\n",
       "    <tr>\n",
       "      <th>Дорожный просвет</th>\n",
       "      <td>1703</td>\n",
       "      <td>89</td>\n",
       "      <td>160 мм</td>\n",
       "      <td>102</td>\n",
       "    </tr>\n",
       "    <tr>\n",
       "      <th>Габариты (длина × ширина × высота)</th>\n",
       "      <td>1703</td>\n",
       "      <td>278</td>\n",
       "      <td>4803 × 2032 × 1665</td>\n",
       "      <td>34</td>\n",
       "    </tr>\n",
       "    <tr>\n",
       "      <th>Колёсная база</th>\n",
       "      <td>1703</td>\n",
       "      <td>143</td>\n",
       "      <td>2670 мм</td>\n",
       "      <td>71</td>\n",
       "    </tr>\n",
       "    <tr>\n",
       "      <th>Объём багажника</th>\n",
       "      <td>1703</td>\n",
       "      <td>155</td>\n",
       "      <td>530 л</td>\n",
       "      <td>89</td>\n",
       "    </tr>\n",
       "    <tr>\n",
       "      <th>Объём багажника максимальный</th>\n",
       "      <td>1703</td>\n",
       "      <td>194</td>\n",
       "      <td>510 л</td>\n",
       "      <td>48</td>\n",
       "    </tr>\n",
       "    <tr>\n",
       "      <th>Объём топливного бака</th>\n",
       "      <td>1703</td>\n",
       "      <td>55</td>\n",
       "      <td>60 л</td>\n",
       "      <td>274</td>\n",
       "    </tr>\n",
       "    <tr>\n",
       "      <th>Масса автомобиля</th>\n",
       "      <td>1703</td>\n",
       "      <td>423</td>\n",
       "      <td>1680 кг</td>\n",
       "      <td>26</td>\n",
       "    </tr>\n",
       "  </tbody>\n",
       "</table>\n",
       "</div>"
      ],
      "text/plain": [
       "                                                   count unique  \\\n",
       "brand                                               1703     27   \n",
       "model                                               1703    246   \n",
       "complect                                            1703   1400   \n",
       "type_car                                            1703     37   \n",
       "seats                                               1703      8   \n",
       "doors                                               1703      7   \n",
       "Двигатель                                           1703    116   \n",
       "Мощность                                            1703    130   \n",
       "Крутящий момент двигателя                           1703    131   \n",
       "Коробка передач                                     1703     16   \n",
       "Привод                                              1703      3   \n",
       "Разгон до сотни                                     1703    112   \n",
       "Максимальная скорость                               1703     99   \n",
       "Расход топлива (л/100 км)\\nгород / трасса / сме...  1703    558   \n",
       "Дорожный просвет                                    1703     89   \n",
       "Габариты (длина × ширина × высота)                  1703    278   \n",
       "Колёсная база                                       1703    143   \n",
       "Объём багажника                                     1703    155   \n",
       "Объём багажника максимальный                        1703    194   \n",
       "Объём топливного бака                               1703     55   \n",
       "Масса автомобиля                                    1703    423   \n",
       "\n",
       "                                                                            top  \\\n",
       "brand                                                                Land Rover   \n",
       "model                                                         Range Rover Velar   \n",
       "complect                                                     Sport 40 TFSI 7AMT   \n",
       "type_car                                                   Компактный кроссовер   \n",
       "seats                                                                         5   \n",
       "doors                                                                         5   \n",
       "Двигатель                                                 бензиновый (1598 см³)   \n",
       "Мощность                                                              150 л. с.   \n",
       "Крутящий момент двигателя                                               320 Н·м   \n",
       "Коробка передач                                     автоматическая (8 ступеней)   \n",
       "Привод                                                                   полный   \n",
       "Разгон до сотни                                                      нет данных   \n",
       "Максимальная скорость                                                  250 км/ч   \n",
       "Расход топлива (л/100 км)\\nгород / трасса / сме...                    0 / 0 / 0   \n",
       "Дорожный просвет                                                         160 мм   \n",
       "Габариты (длина × ширина × высота)                           4803 × 2032 × 1665   \n",
       "Колёсная база                                                           2670 мм   \n",
       "Объём багажника                                                           530 л   \n",
       "Объём багажника максимальный                                              510 л   \n",
       "Объём топливного бака                                                      60 л   \n",
       "Масса автомобиля                                                        1680 кг   \n",
       "\n",
       "                                                    freq  \n",
       "brand                                                166  \n",
       "model                                                 34  \n",
       "complect                                               6  \n",
       "type_car                                             379  \n",
       "seats                                               1507  \n",
       "doors                                               1027  \n",
       "Двигатель                                            138  \n",
       "Мощность                                             274  \n",
       "Крутящий момент двигателя                            112  \n",
       "Коробка передач                                      560  \n",
       "Привод                                              1024  \n",
       "Разгон до сотни                                       71  \n",
       "Максимальная скорость                                209  \n",
       "Расход топлива (л/100 км)\\nгород / трасса / сме...    48  \n",
       "Дорожный просвет                                     102  \n",
       "Габариты (длина × ширина × высота)                    34  \n",
       "Колёсная база                                         71  \n",
       "Объём багажника                                       89  \n",
       "Объём багажника максимальный                          48  \n",
       "Объём топливного бака                                274  \n",
       "Масса автомобиля                                      26  "
      ]
     },
     "execution_count": 8,
     "metadata": {},
     "output_type": "execute_result"
    }
   ],
   "source": [
    "#Просмотр признаков\n",
    "df.describe().T"
   ]
  },
  {
   "cell_type": "code",
   "execution_count": 10,
   "metadata": {},
   "outputs": [
    {
     "name": "stdout",
     "output_type": "stream",
     "text": [
      "<class 'pandas.core.frame.DataFrame'>\n",
      "RangeIndex: 1703 entries, 0 to 1702\n",
      "Data columns (total 21 columns):\n",
      " #   Column                                                Non-Null Count  Dtype \n",
      "---  ------                                                --------------  ----- \n",
      " 0   brand                                                 1703 non-null   object\n",
      " 1   model                                                 1703 non-null   object\n",
      " 2   complect                                              1703 non-null   object\n",
      " 3   type_car                                              1703 non-null   object\n",
      " 4   seats                                                 1703 non-null   object\n",
      " 5   doors                                                 1703 non-null   object\n",
      " 6   Двигатель                                             1703 non-null   object\n",
      " 7   Мощность                                              1703 non-null   object\n",
      " 8   Крутящий момент двигателя                             1703 non-null   object\n",
      " 9   Коробка передач                                       1703 non-null   object\n",
      " 10  Привод                                                1703 non-null   object\n",
      " 11  Разгон до сотни                                       1703 non-null   object\n",
      " 12  Максимальная скорость                                 1703 non-null   object\n",
      " 13  Расход топлива (л/100 км)\n",
      "город / трасса / смешанный  1703 non-null   object\n",
      " 14  Дорожный просвет                                      1703 non-null   object\n",
      " 15  Габариты (длина × ширина × высота)                    1703 non-null   object\n",
      " 16  Колёсная база                                         1703 non-null   object\n",
      " 17  Объём багажника                                       1703 non-null   object\n",
      " 18  Объём багажника максимальный                          1703 non-null   object\n",
      " 19  Объём топливного бака                                 1703 non-null   object\n",
      " 20  Масса автомобиля                                      1703 non-null   object\n",
      "dtypes: object(21)\n",
      "memory usage: 279.5+ KB\n"
     ]
    }
   ],
   "source": [
    "#Видно что пропусков в данных нет(значений None), и типы всех колонок object(str)\n",
    "df.info()"
   ]
  },
  {
   "cell_type": "markdown",
   "metadata": {},
   "source": [
    "### Описание данных\n",
    "1. Brand - Марка машины - категориальный признак\n",
    "2. model - Модель машины\n",
    "3. complect - комплектация\n",
    "4. type_car - тип кузова *Целевая переменная*\n",
    "5. seats - кол. сидений - порядковый признак \n",
    "6. doors - кол. дверей - порядковый признак\n",
    "7. Двигатель - можно разбить на тип двигателя-категориальный признак и его объём - количественный признак\n",
    "8. Мощность - мошность двигателя в л.с. - количественный признак\n",
    "9. Крутящий момент двигателя -  количественный признак\n",
    "10. Коробка передач - можно разбить на тип корбки - категориальный признак и кол. ступеней - порядковый признак\n",
    "11. Привод - категориальный\n",
    "12. Разгон до 100 -время в секундах - количественный признак\n",
    "13. Максимальная скорость км/ч - количественный признак\n",
    "14. Расход топлива - (три показателя)- сделать средний расход - количественный признак\n",
    "15. Дорожный просвет, мм - количественный признак\n",
    "16. Габариты ДхШхВ - можно сделать признак объем общий - количественный признак\n",
    "17. Колесная база, мм - количественный признак\n",
    "18. Объём багажника, л - количественный признак\n",
    "19. Объём багажника макс, л - количественный признак\n",
    "20. Объём топливного бака, л - количественный признак\n",
    "21. Масса автомобиля, кг - количественный признак"
   ]
  },
  {
   "cell_type": "markdown",
   "metadata": {},
   "source": [
    "### По условию задачи нужно классифицировать данные на 4 класса :\n",
    "1.  Седан \n",
    "2. Хетчбек\n",
    "3. Кроссовер \n",
    "4. Внедорожник\\\n",
    " На самом деле в данных более 4 классов, посмотрим на них и увидим что в большинстве ключевые слова записаны в контексте.\\\n",
    " Нужно выделить эти классы.И удалить не целевые"
   ]
  },
  {
   "cell_type": "code",
   "execution_count": 11,
   "metadata": {},
   "outputs": [
    {
     "data": {
      "text/plain": [
       "array(['Седан класса C', 'Хэтчбек класса B', 'Седан класса D',\n",
       "       'Универсал повышенной проходимости класса D', 'Универсал класса D',\n",
       "       'Купе класса D', 'Хэтчбек класса D', 'Седан класса E',\n",
       "       'Универсал класса E', 'Хэтчбек класса E', 'Седан класса F',\n",
       "       'Большой кроссовер', 'Компактный кроссовер',\n",
       "       'Среднеразмерный кроссовер', 'Купе класса C', 'Спорткупе',\n",
       "       'Кабриолет с мягкой крышей', 'Спорткупе класса D',\n",
       "       'Спортседан класса E', 'Родстер', 'Большой внедорожник',\n",
       "       'Седан класса B', 'Хэтчбек класса A', 'Кроссовер класса B', 'Вэн',\n",
       "       'Горячий хэтчбек класса C', 'Внедорожник класса B',\n",
       "       'Среднеразмерный внедорожник', 'Хэтчбек класса C',\n",
       "       'Универсал класса C', 'Спортседан класса D', 'Купе класса E',\n",
       "       'Пикап', 'Горячий седан класса C', 'Минивэн', 'Компактвэн',\n",
       "       'Универсал повышенной проходимости класса E'], dtype=object)"
      ]
     },
     "execution_count": 11,
     "metadata": {},
     "output_type": "execute_result"
    }
   ],
   "source": [
    "#Просмотр всех типов авто\n",
    "df['type_car'].unique()"
   ]
  },
  {
   "cell_type": "code",
   "execution_count": 14,
   "metadata": {},
   "outputs": [
    {
     "name": "stdout",
     "output_type": "stream",
     "text": [
      "Всего уникальных значений:  37\n"
     ]
    },
    {
     "data": {
      "text/plain": [
       "Компактный кроссовер                          379\n",
       "Среднеразмерный кроссовер                     236\n",
       "Большой внедорожник                           129\n",
       "Большой кроссовер                             115\n",
       "Седан класса E                                104\n",
       "Седан класса D                                 93\n",
       "Седан класса B                                 91\n",
       "Седан класса F                                 68\n",
       "Вэн                                            53\n",
       "Седан класса C                                 53\n",
       "Хэтчбек класса B                               40\n",
       "Компактвэн                                     39\n",
       "Среднеразмерный внедорожник                    30\n",
       "Хэтчбек класса C                               29\n",
       "Хэтчбек класса D                               26\n",
       "Пикап                                          26\n",
       "Кроссовер класса B                             24\n",
       "Хэтчбек класса E                               20\n",
       "Купе класса D                                  16\n",
       "Универсал класса E                             16\n",
       "Спорткупе                                      16\n",
       "Внедорожник класса B                           15\n",
       "Универсал класса D                             12\n",
       "Универсал класса C                             11\n",
       "Хэтчбек класса A                               10\n",
       "Родстер                                         9\n",
       "Универсал повышенной проходимости класса D      8\n",
       "Универсал повышенной проходимости класса E      7\n",
       "Спорткупе класса D                              6\n",
       "Кабриолет с мягкой крышей                       5\n",
       "Купе класса C                                   3\n",
       "Горячий седан класса C                          3\n",
       "Горячий хэтчбек класса C                        3\n",
       "Спортседан класса E                             2\n",
       "Купе класса E                                   2\n",
       "Спортседан класса D                             2\n",
       "Минивэн                                         2\n",
       "Name: type_car, dtype: int64"
      ]
     },
     "execution_count": 14,
     "metadata": {},
     "output_type": "execute_result"
    }
   ],
   "source": [
    "#Просмотр частотности и количества\n",
    "print('Всего уникальных значений: ',df['type_car'].nunique())\n",
    "df['type_car'].value_counts()"
   ]
  },
  {
   "cell_type": "code",
   "execution_count": 52,
   "metadata": {},
   "outputs": [],
   "source": [
    "#Удалим столбцы с информацией о марке,модели и комплектации авто т.к они не помогут нам в классификации\n",
    "#\n",
    "# axis=1 указывает на то что удаляем столбцы, параметр inplace говорит о том что удаляем из исходного датафрема\n",
    "# В колонке 'Разгон до сотни'  71 значение - \"нет данных\"\n",
    "# В колонке 'Расход топлива'  - 48 значений - 0\n",
    "df.drop(['brand','model','complect','Разгон до сотни','Расход топлива (л/100 км)\\nгород / трасса / смешанный'],\\\n",
    "        axis=1,inplace=True)"
   ]
  },
  {
   "cell_type": "code",
   "execution_count": 53,
   "metadata": {},
   "outputs": [],
   "source": [
    "#Изменим тип данных для признаков кол. сидений и кол.дверей к целому числу\n",
    "df[\"seats\"] = df[\"seats\"].astype(\"int64\")\n",
    "df[\"doors\"] = df[\"doors\"].astype(\"int64\")"
   ]
  },
  {
   "cell_type": "code",
   "execution_count": 39,
   "metadata": {},
   "outputs": [],
   "source": [
    "def get_type_of_cars(type_car):\n",
    "    \"\"\"\n",
    "    Функция принимает строку и ищет в ней ключевые слова, описывающих классы,\n",
    "    Возвращает имя класса если он упомимается в строке иначе None\n",
    "    \"\"\"\n",
    "    type_car = type_car.lower()\n",
    "    if type_car.find('седан') != -1:\n",
    "        return \"Седан\"\n",
    "    elif type_car.find('кроссовер') != -1:\n",
    "        return \"Кроссовер\"\n",
    "    elif type_car.find('хэтчбек') != -1:\n",
    "        return \"Хетчбек\"\n",
    "    elif type_car.find('внедорожник') != -1:\n",
    "        return \"Внедорожник\"\n",
    "    else:\n",
    "        return None     "
   ]
  },
  {
   "cell_type": "code",
   "execution_count": 54,
   "metadata": {},
   "outputs": [],
   "source": [
    "# Применим функцию get_type_of_cars для получения меток\n",
    "df['type_car'] = df[\"type_car\"].apply(get_type_of_cars)"
   ]
  },
  {
   "cell_type": "code",
   "execution_count": 41,
   "metadata": {},
   "outputs": [
    {
     "name": "stdout",
     "output_type": "stream",
     "text": [
      "Кол. строк без ключевых классов:  231\n",
      "Процент отфильтрованных данных: 0.14 %\n"
     ]
    }
   ],
   "source": [
    "#изначально все строки были не пустые, после преобразования выявили 231 машину не относящуюся к нашим классам\n",
    "print('Кол. строк без ключевых классов: ',df['type_car'].isnull().sum())\n",
    "filtr = round(df['type_car'].isnull().sum()/  df.shape[0],2)\n",
    "print(f'Процент отфильтрованных данных: {filtr} %')"
   ]
  },
  {
   "cell_type": "code",
   "execution_count": 55,
   "metadata": {},
   "outputs": [],
   "source": [
    "#Удаляем строки со значениям None\n",
    "df.dropna(inplace=True)"
   ]
  },
  {
   "cell_type": "code",
   "execution_count": 43,
   "metadata": {},
   "outputs": [
    {
     "data": {
      "text/plain": [
       "(1472, 16)"
      ]
     },
     "execution_count": 43,
     "metadata": {},
     "output_type": "execute_result"
    }
   ],
   "source": [
    "df.shape"
   ]
  },
  {
   "cell_type": "code",
   "execution_count": 30,
   "metadata": {},
   "outputs": [
    {
     "data": {
      "text/plain": [
       "1472"
      ]
     },
     "execution_count": 30,
     "metadata": {},
     "output_type": "execute_result"
    }
   ],
   "source": [
    "1703 - 231"
   ]
  },
  {
   "cell_type": "markdown",
   "metadata": {},
   "source": [
    "#### Функции для преобразования данных таблицы в числовые и извеление признаков"
   ]
  },
  {
   "cell_type": "code",
   "execution_count": 31,
   "metadata": {},
   "outputs": [],
   "source": [
    "def not_00(x):\n",
    "    \"\"\"\n",
    "    Функция для преобразования первого элемента (слова) строки в целое число\n",
    "    \"\"\"\n",
    "    x= x.split()\n",
    "    return int(x[0])"
   ]
  },
  {
   "cell_type": "code",
   "execution_count": 44,
   "metadata": {},
   "outputs": [],
   "source": [
    "def lenght_and_hight(stroka):\n",
    "    \"\"\"\n",
    "    Объем занимаемого авто \n",
    "    \"\"\"\n",
    "    stroka= stroka.split('×')\n",
    "    stroka = list(map(int,stroka))\n",
    "    return stroka[0] * stroka[1] * stroka[2]"
   ]
  },
  {
   "cell_type": "code",
   "execution_count": 45,
   "metadata": {},
   "outputs": [],
   "source": [
    "def get_type_of_engine(stroka):\n",
    "    stroka = stroka.split()\n",
    "    engine = stroka[0]\n",
    "    return engine\n",
    "\n",
    "def get_volume_of_engine(stroka):\n",
    "    stroka = stroka.split()\n",
    "    volume = int(stroka[1][1:])\n",
    "    return volume"
   ]
  },
  {
   "cell_type": "code",
   "execution_count": 46,
   "metadata": {},
   "outputs": [],
   "source": [
    "def get_privod(stroka):\n",
    "    stroka = stroka.split()\n",
    "    return stroka[0]"
   ]
  },
  {
   "cell_type": "code",
   "execution_count": 47,
   "metadata": {},
   "outputs": [],
   "source": [
    "def get_privod_count(stroka):\n",
    "    stroka = stroka.split()\n",
    "    volume = int(stroka[1][1])\n",
    "    return volume"
   ]
  },
  {
   "cell_type": "markdown",
   "metadata": {},
   "source": [
    "Создаем новую колонку и применяем к соответсвующей функциюю написанную ранее"
   ]
  },
  {
   "cell_type": "code",
   "execution_count": 56,
   "metadata": {},
   "outputs": [],
   "source": [
    "df['Тип двигателя'] = df['Двигатель'].apply(get_type_of_engine)\n",
    "df['Объем двигателя'] = df['Двигатель'].apply(get_volume_of_engine)"
   ]
  },
  {
   "cell_type": "code",
   "execution_count": 57,
   "metadata": {},
   "outputs": [],
   "source": [
    "df['Мощность л/с'] = df['Мощность'].apply(lambda x : int(x[:3]))"
   ]
  },
  {
   "cell_type": "code",
   "execution_count": 58,
   "metadata": {},
   "outputs": [],
   "source": [
    "df['Крутящий момент двигателя, H*м'] = df['Крутящий момент двигателя'].apply(not_00)"
   ]
  },
  {
   "cell_type": "code",
   "execution_count": 59,
   "metadata": {},
   "outputs": [],
   "source": [
    "df['Тип коробки'] = df['Коробка передач'].apply(get_privod)\n",
    "df['Кол передач'] = df['Коробка передач'].apply(get_privod_count)"
   ]
  },
  {
   "cell_type": "code",
   "execution_count": 60,
   "metadata": {},
   "outputs": [],
   "source": [
    "df['Максимальная скорость, км/ч'] = df['Максимальная скорость'].apply(not_00)"
   ]
  },
  {
   "cell_type": "code",
   "execution_count": 61,
   "metadata": {},
   "outputs": [],
   "source": [
    "df['Дорожный просвет, мм'] = df['Дорожный просвет'].apply(not_00)"
   ]
  },
  {
   "cell_type": "code",
   "execution_count": 62,
   "metadata": {},
   "outputs": [],
   "source": [
    "df['Общий объм машины']= df['Габариты (длина × ширина × высота)'].apply(lenght_and_hight)"
   ]
  },
  {
   "cell_type": "code",
   "execution_count": 63,
   "metadata": {},
   "outputs": [],
   "source": [
    "df['Колёсная база, мм'] = df['Колёсная база'].apply(not_00)"
   ]
  },
  {
   "cell_type": "code",
   "execution_count": 64,
   "metadata": {},
   "outputs": [],
   "source": [
    "df['Объём багажника, л'] = df['Объём багажника'].apply(not_00)\n",
    "df['Объём багажника макс, л'] = df['Объём багажника максимальный'].apply(not_00)"
   ]
  },
  {
   "cell_type": "code",
   "execution_count": 65,
   "metadata": {},
   "outputs": [],
   "source": [
    "df['Объём топливного бака, л'] = df['Объём топливного бака'].apply(not_00)"
   ]
  },
  {
   "cell_type": "code",
   "execution_count": 66,
   "metadata": {},
   "outputs": [],
   "source": [
    "df['Масса автомобиля, кг'] = df['Масса автомобиля'].apply(not_00)"
   ]
  },
  {
   "cell_type": "markdown",
   "metadata": {},
   "source": [
    "Удаляем изначальные колонки, после создания новых с числовыми значениями"
   ]
  },
  {
   "cell_type": "code",
   "execution_count": 67,
   "metadata": {},
   "outputs": [],
   "source": [
    "df.drop(['Масса автомобиля', \\\n",
    "                'Объём топливного бака','Объём багажника',\\\n",
    "                'Максимальная скорость','Мощность',\\\n",
    "                'Колёсная база','Дорожный просвет','Двигатель',\\\n",
    "                'Крутящий момент двигателя','Габариты (длина × ширина × высота)',\\\n",
    "                'Коробка передач','Объём багажника максимальный'], axis=1,inplace=True)"
   ]
  },
  {
   "cell_type": "code",
   "execution_count": 68,
   "metadata": {},
   "outputs": [
    {
     "data": {
      "text/html": [
       "<div>\n",
       "<style scoped>\n",
       "    .dataframe tbody tr th:only-of-type {\n",
       "        vertical-align: middle;\n",
       "    }\n",
       "\n",
       "    .dataframe tbody tr th {\n",
       "        vertical-align: top;\n",
       "    }\n",
       "\n",
       "    .dataframe thead th {\n",
       "        text-align: right;\n",
       "    }\n",
       "</style>\n",
       "<table border=\"1\" class=\"dataframe\">\n",
       "  <thead>\n",
       "    <tr style=\"text-align: right;\">\n",
       "      <th></th>\n",
       "      <th>type_car</th>\n",
       "      <th>seats</th>\n",
       "      <th>doors</th>\n",
       "      <th>Привод</th>\n",
       "      <th>Тип двигателя</th>\n",
       "      <th>Объем двигателя</th>\n",
       "      <th>Мощность л/с</th>\n",
       "      <th>Крутящий момент двигателя, H*м</th>\n",
       "      <th>Тип коробки</th>\n",
       "      <th>Кол передач</th>\n",
       "      <th>Максимальная скорость, км/ч</th>\n",
       "      <th>Дорожный просвет, мм</th>\n",
       "      <th>Общий объм машины</th>\n",
       "      <th>Колёсная база, мм</th>\n",
       "      <th>Объём багажника, л</th>\n",
       "      <th>Объём багажника макс, л</th>\n",
       "      <th>Объём топливного бака, л</th>\n",
       "      <th>Масса автомобиля, кг</th>\n",
       "    </tr>\n",
       "  </thead>\n",
       "  <tbody>\n",
       "    <tr>\n",
       "      <th>0</th>\n",
       "      <td>Седан</td>\n",
       "      <td>5</td>\n",
       "      <td>4</td>\n",
       "      <td>передний</td>\n",
       "      <td>бензиновый</td>\n",
       "      <td>1395</td>\n",
       "      <td>150</td>\n",
       "      <td>250</td>\n",
       "      <td>роботизированная</td>\n",
       "      <td>7</td>\n",
       "      <td>224</td>\n",
       "      <td>165</td>\n",
       "      <td>11337300288</td>\n",
       "      <td>2637</td>\n",
       "      <td>425</td>\n",
       "      <td>880</td>\n",
       "      <td>50</td>\n",
       "      <td>1320</td>\n",
       "    </tr>\n",
       "    <tr>\n",
       "      <th>1</th>\n",
       "      <td>Седан</td>\n",
       "      <td>5</td>\n",
       "      <td>4</td>\n",
       "      <td>передний</td>\n",
       "      <td>бензиновый</td>\n",
       "      <td>1395</td>\n",
       "      <td>150</td>\n",
       "      <td>250</td>\n",
       "      <td>роботизированная</td>\n",
       "      <td>7</td>\n",
       "      <td>224</td>\n",
       "      <td>165</td>\n",
       "      <td>11337300288</td>\n",
       "      <td>2637</td>\n",
       "      <td>425</td>\n",
       "      <td>880</td>\n",
       "      <td>50</td>\n",
       "      <td>1320</td>\n",
       "    </tr>\n",
       "    <tr>\n",
       "      <th>2</th>\n",
       "      <td>Седан</td>\n",
       "      <td>5</td>\n",
       "      <td>4</td>\n",
       "      <td>передний</td>\n",
       "      <td>бензиновый</td>\n",
       "      <td>1984</td>\n",
       "      <td>190</td>\n",
       "      <td>320</td>\n",
       "      <td>роботизированная</td>\n",
       "      <td>7</td>\n",
       "      <td>250</td>\n",
       "      <td>165</td>\n",
       "      <td>11337300288</td>\n",
       "      <td>2637</td>\n",
       "      <td>425</td>\n",
       "      <td>880</td>\n",
       "      <td>50</td>\n",
       "      <td>1395</td>\n",
       "    </tr>\n",
       "    <tr>\n",
       "      <th>3</th>\n",
       "      <td>Седан</td>\n",
       "      <td>5</td>\n",
       "      <td>4</td>\n",
       "      <td>полный</td>\n",
       "      <td>бензиновый</td>\n",
       "      <td>1984</td>\n",
       "      <td>190</td>\n",
       "      <td>320</td>\n",
       "      <td>роботизированная</td>\n",
       "      <td>7</td>\n",
       "      <td>242</td>\n",
       "      <td>165</td>\n",
       "      <td>11337300288</td>\n",
       "      <td>2637</td>\n",
       "      <td>390</td>\n",
       "      <td>845</td>\n",
       "      <td>55</td>\n",
       "      <td>1465</td>\n",
       "    </tr>\n",
       "    <tr>\n",
       "      <th>4</th>\n",
       "      <td>Седан</td>\n",
       "      <td>5</td>\n",
       "      <td>4</td>\n",
       "      <td>передний</td>\n",
       "      <td>бензиновый</td>\n",
       "      <td>1984</td>\n",
       "      <td>190</td>\n",
       "      <td>320</td>\n",
       "      <td>роботизированная</td>\n",
       "      <td>7</td>\n",
       "      <td>242</td>\n",
       "      <td>165</td>\n",
       "      <td>11337300288</td>\n",
       "      <td>2637</td>\n",
       "      <td>425</td>\n",
       "      <td>880</td>\n",
       "      <td>50</td>\n",
       "      <td>1395</td>\n",
       "    </tr>\n",
       "  </tbody>\n",
       "</table>\n",
       "</div>"
      ],
      "text/plain": [
       "  type_car  seats  doors    Привод Тип двигателя  Объем двигателя  \\\n",
       "0    Седан      5      4  передний    бензиновый             1395   \n",
       "1    Седан      5      4  передний    бензиновый             1395   \n",
       "2    Седан      5      4  передний    бензиновый             1984   \n",
       "3    Седан      5      4    полный    бензиновый             1984   \n",
       "4    Седан      5      4  передний    бензиновый             1984   \n",
       "\n",
       "   Мощность л/с  Крутящий момент двигателя, H*м       Тип коробки  \\\n",
       "0           150                             250  роботизированная   \n",
       "1           150                             250  роботизированная   \n",
       "2           190                             320  роботизированная   \n",
       "3           190                             320  роботизированная   \n",
       "4           190                             320  роботизированная   \n",
       "\n",
       "   Кол передач  Максимальная скорость, км/ч  Дорожный просвет, мм  \\\n",
       "0            7                          224                   165   \n",
       "1            7                          224                   165   \n",
       "2            7                          250                   165   \n",
       "3            7                          242                   165   \n",
       "4            7                          242                   165   \n",
       "\n",
       "   Общий объм машины  Колёсная база, мм  Объём багажника, л  \\\n",
       "0        11337300288               2637                 425   \n",
       "1        11337300288               2637                 425   \n",
       "2        11337300288               2637                 425   \n",
       "3        11337300288               2637                 390   \n",
       "4        11337300288               2637                 425   \n",
       "\n",
       "   Объём багажника макс, л  Объём топливного бака, л  Масса автомобиля, кг  \n",
       "0                      880                        50                  1320  \n",
       "1                      880                        50                  1320  \n",
       "2                      880                        50                  1395  \n",
       "3                      845                        55                  1465  \n",
       "4                      880                        50                  1395  "
      ]
     },
     "execution_count": 68,
     "metadata": {},
     "output_type": "execute_result"
    }
   ],
   "source": [
    "df.head()"
   ]
  },
  {
   "cell_type": "code",
   "execution_count": 69,
   "metadata": {},
   "outputs": [
    {
     "name": "stdout",
     "output_type": "stream",
     "text": [
      "<class 'pandas.core.frame.DataFrame'>\n",
      "Int64Index: 1472 entries, 0 to 1702\n",
      "Data columns (total 18 columns):\n",
      " #   Column                          Non-Null Count  Dtype \n",
      "---  ------                          --------------  ----- \n",
      " 0   type_car                        1472 non-null   object\n",
      " 1   seats                           1472 non-null   int64 \n",
      " 2   doors                           1472 non-null   int64 \n",
      " 3   Привод                          1472 non-null   object\n",
      " 4   Тип двигателя                   1472 non-null   object\n",
      " 5   Объем двигателя                 1472 non-null   int64 \n",
      " 6   Мощность л/с                    1472 non-null   int64 \n",
      " 7   Крутящий момент двигателя, H*м  1472 non-null   int64 \n",
      " 8   Тип коробки                     1472 non-null   object\n",
      " 9   Кол передач                     1472 non-null   int64 \n",
      " 10  Максимальная скорость, км/ч     1472 non-null   int64 \n",
      " 11  Дорожный просвет, мм            1472 non-null   int64 \n",
      " 12  Общий объм машины               1472 non-null   int64 \n",
      " 13  Колёсная база, мм               1472 non-null   int64 \n",
      " 14  Объём багажника, л              1472 non-null   int64 \n",
      " 15  Объём багажника макс, л         1472 non-null   int64 \n",
      " 16  Объём топливного бака, л        1472 non-null   int64 \n",
      " 17  Масса автомобиля, кг            1472 non-null   int64 \n",
      "dtypes: int64(14), object(4)\n",
      "memory usage: 218.5+ KB\n"
     ]
    }
   ],
   "source": [
    "#Провеям типы колонок\n",
    "df.info()"
   ]
  },
  {
   "cell_type": "code",
   "execution_count": 88,
   "metadata": {},
   "outputs": [],
   "source": [
    "from sklearn.model_selection import train_test_split,cross_val_score, GridSearchCV\n",
    "from sklearn.preprocessing import StandardScaler ,LabelEncoder\n",
    "from sklearn.linear_model import LogisticRegression\n",
    "from sklearn.ensemble import RandomForestClassifier\n",
    "from sklearn import tree\n",
    "import numpy as np\n",
    "from sklearn.neighbors import KNeighborsClassifier\n",
    "from sklearn.metrics import accuracy_score, confusion_matrix , precision_score, recall_score, f1_score, ConfusionMatrixDisplay"
   ]
  },
  {
   "cell_type": "code",
   "execution_count": 72,
   "metadata": {},
   "outputs": [],
   "source": [
    "import matplotlib.pyplot as plt"
   ]
  },
  {
   "cell_type": "code",
   "execution_count": 75,
   "metadata": {},
   "outputs": [
    {
     "data": {
      "text/plain": [
       "Кроссовер      0.512228\n",
       "Седан          0.282609\n",
       "Внедорожник    0.118207\n",
       "Хетчбек        0.086957\n",
       "Name: type_car, dtype: float64"
      ]
     },
     "execution_count": 75,
     "metadata": {},
     "output_type": "execute_result"
    }
   ],
   "source": [
    "#Посмотрим на сбалансированность классов \n",
    "df['type_car'].value_counts(normalize=True)"
   ]
  },
  {
   "cell_type": "code",
   "execution_count": 74,
   "metadata": {},
   "outputs": [
    {
     "data": {
      "image/png": "[encoded data removed]",
      "text/plain": [
       "<Figure size 432x288 with 1 Axes>"
      ]
     },
     "metadata": {
      "needs_background": "light"
     },
     "output_type": "display_data"
    }
   ],
   "source": [
    "#Дизбаланс классов\n",
    "df['type_car'].value_counts(normalize=True).plot(kind='barh')\n",
    "plt.show()"
   ]
  },
  {
   "cell_type": "code",
   "execution_count": 77,
   "metadata": {},
   "outputs": [
    {
     "data": {
      "text/plain": [
       "array([[<matplotlib.axes._subplots.AxesSubplot object at 0x0000028EC9A873A0>,\n",
       "        <matplotlib.axes._subplots.AxesSubplot object at 0x0000028EC9AD0CA0>,\n",
       "        <matplotlib.axes._subplots.AxesSubplot object at 0x0000028EC9B18130>,\n",
       "        <matplotlib.axes._subplots.AxesSubplot object at 0x0000028EC9B45580>],\n",
       "       [<matplotlib.axes._subplots.AxesSubplot object at 0x0000028EC9B729D0>,\n",
       "        <matplotlib.axes._subplots.AxesSubplot object at 0x0000028EC9BA53A0>,\n",
       "        <matplotlib.axes._subplots.AxesSubplot object at 0x0000028EC9BA5490>,\n",
       "        <matplotlib.axes._subplots.AxesSubplot object at 0x0000028EC9BCDC40>],\n",
       "       [<matplotlib.axes._subplots.AxesSubplot object at 0x0000028EC9C2EAF0>,\n",
       "        <matplotlib.axes._subplots.AxesSubplot object at 0x0000028EC9C642B0>,\n",
       "        <matplotlib.axes._subplots.AxesSubplot object at 0x0000028EC9C8BA30>,\n",
       "        <matplotlib.axes._subplots.AxesSubplot object at 0x0000028EC9CC21F0>],\n",
       "       [<matplotlib.axes._subplots.AxesSubplot object at 0x0000028EC9CEC970>,\n",
       "        <matplotlib.axes._subplots.AxesSubplot object at 0x0000028EC9D21130>,\n",
       "        <matplotlib.axes._subplots.AxesSubplot object at 0x0000028EC9D497F0>,\n",
       "        <matplotlib.axes._subplots.AxesSubplot object at 0x0000028EC9D73160>]],\n",
       "      dtype=object)"
      ]
     },
     "execution_count": 77,
     "metadata": {},
     "output_type": "execute_result"
    },
    {
     "data": {
      "image/png": "[encoded data removed]",
      "text/plain": [
       "<Figure size 1152x1152 with 16 Axes>"
      ]
     },
     "metadata": {
      "needs_background": "light"
     },
     "output_type": "display_data"
    }
   ],
   "source": [
    "df.hist(figsize = (16,16))"
   ]
  },
  {
   "cell_type": "code",
   "execution_count": 111,
   "metadata": {},
   "outputs": [
    {
     "data": {
      "text/plain": [
       "<matplotlib.axes._subplots.AxesSubplot at 0x28ecbfebe80>"
      ]
     },
     "execution_count": 111,
     "metadata": {},
     "output_type": "execute_result"
    },
    {
     "data": {
      "image/png": "[encoded data removed]",
      "text/plain": [
       "<Figure size 432x288 with 1 Axes>"
      ]
     },
     "metadata": {
      "needs_background": "light"
     },
     "output_type": "display_data"
    }
   ],
   "source": [
    "df.boxplot()"
   ]
  },
  {
   "cell_type": "code",
   "execution_count": 112,
   "metadata": {},
   "outputs": [
    {
     "data": {
      "text/plain": [
       "seats                             2.851358e-01\n",
       "doors                             6.728342e-01\n",
       "Объем двигателя                   7.768212e+05\n",
       "Мощность л/с                      1.013581e+04\n",
       "Крутящий момент двигателя, H*м    2.756759e+04\n",
       "Кол передач                       6.139859e+00\n",
       "Максимальная скорость, км/ч       9.508027e+02\n",
       "Дорожный просвет, мм              2.098705e+03\n",
       "Общий объм машины                 5.337977e+18\n",
       "Колёсная база, мм                 2.580252e+04\n",
       "Объём багажника, л                2.238300e+04\n",
       "Объём багажника макс, л           3.546031e+05\n",
       "Объём топливного бака, л          2.357586e+02\n",
       "Масса автомобиля, кг              1.414145e+05\n",
       "dtype: float64"
      ]
     },
     "execution_count": 112,
     "metadata": {},
     "output_type": "execute_result"
    }
   ],
   "source": [
    "# дисперсия числовых данных\n",
    "df.var()"
   ]
  },
  {
   "cell_type": "code",
   "execution_count": 78,
   "metadata": {},
   "outputs": [],
   "source": [
    "#Разбиваем очищенные данные \n",
    "X = df.drop(['type_car'],axis=1)\n",
    "y = df['type_car']"
   ]
  },
  {
   "cell_type": "code",
   "execution_count": 81,
   "metadata": {},
   "outputs": [],
   "source": [
    "#Кодируем  категориальные признаки как бинарные и удаляем один т.к. идет переопределение\n",
    "X_dumm = pd.get_dummies(X[['Привод', 'Тип двигателя', 'Тип коробки']], drop_first=True)"
   ]
  },
  {
   "cell_type": "code",
   "execution_count": 82,
   "metadata": {},
   "outputs": [
    {
     "data": {
      "text/html": [
       "<div>\n",
       "<style scoped>\n",
       "    .dataframe tbody tr th:only-of-type {\n",
       "        vertical-align: middle;\n",
       "    }\n",
       "\n",
       "    .dataframe tbody tr th {\n",
       "        vertical-align: top;\n",
       "    }\n",
       "\n",
       "    .dataframe thead th {\n",
       "        text-align: right;\n",
       "    }\n",
       "</style>\n",
       "<table border=\"1\" class=\"dataframe\">\n",
       "  <thead>\n",
       "    <tr style=\"text-align: right;\">\n",
       "      <th></th>\n",
       "      <th>Привод_передний</th>\n",
       "      <th>Привод_полный</th>\n",
       "      <th>Тип двигателя_гибридный</th>\n",
       "      <th>Тип двигателя_дизельный</th>\n",
       "      <th>Тип двигателя_электрический</th>\n",
       "      <th>Тип коробки_вариатор</th>\n",
       "      <th>Тип коробки_механическая</th>\n",
       "      <th>Тип коробки_роботизированная</th>\n",
       "    </tr>\n",
       "  </thead>\n",
       "  <tbody>\n",
       "    <tr>\n",
       "      <th>0</th>\n",
       "      <td>1</td>\n",
       "      <td>0</td>\n",
       "      <td>0</td>\n",
       "      <td>0</td>\n",
       "      <td>0</td>\n",
       "      <td>0</td>\n",
       "      <td>0</td>\n",
       "      <td>1</td>\n",
       "    </tr>\n",
       "    <tr>\n",
       "      <th>1</th>\n",
       "      <td>1</td>\n",
       "      <td>0</td>\n",
       "      <td>0</td>\n",
       "      <td>0</td>\n",
       "      <td>0</td>\n",
       "      <td>0</td>\n",
       "      <td>0</td>\n",
       "      <td>1</td>\n",
       "    </tr>\n",
       "    <tr>\n",
       "      <th>2</th>\n",
       "      <td>1</td>\n",
       "      <td>0</td>\n",
       "      <td>0</td>\n",
       "      <td>0</td>\n",
       "      <td>0</td>\n",
       "      <td>0</td>\n",
       "      <td>0</td>\n",
       "      <td>1</td>\n",
       "    </tr>\n",
       "    <tr>\n",
       "      <th>3</th>\n",
       "      <td>0</td>\n",
       "      <td>1</td>\n",
       "      <td>0</td>\n",
       "      <td>0</td>\n",
       "      <td>0</td>\n",
       "      <td>0</td>\n",
       "      <td>0</td>\n",
       "      <td>1</td>\n",
       "    </tr>\n",
       "    <tr>\n",
       "      <th>4</th>\n",
       "      <td>1</td>\n",
       "      <td>0</td>\n",
       "      <td>0</td>\n",
       "      <td>0</td>\n",
       "      <td>0</td>\n",
       "      <td>0</td>\n",
       "      <td>0</td>\n",
       "      <td>1</td>\n",
       "    </tr>\n",
       "  </tbody>\n",
       "</table>\n",
       "</div>"
      ],
      "text/plain": [
       "   Привод_передний  Привод_полный  Тип двигателя_гибридный  \\\n",
       "0                1              0                        0   \n",
       "1                1              0                        0   \n",
       "2                1              0                        0   \n",
       "3                0              1                        0   \n",
       "4                1              0                        0   \n",
       "\n",
       "   Тип двигателя_дизельный  Тип двигателя_электрический  Тип коробки_вариатор  \\\n",
       "0                        0                            0                     0   \n",
       "1                        0                            0                     0   \n",
       "2                        0                            0                     0   \n",
       "3                        0                            0                     0   \n",
       "4                        0                            0                     0   \n",
       "\n",
       "   Тип коробки_механическая  Тип коробки_роботизированная  \n",
       "0                         0                             1  \n",
       "1                         0                             1  \n",
       "2                         0                             1  \n",
       "3                         0                             1  \n",
       "4                         0                             1  "
      ]
     },
     "execution_count": 82,
     "metadata": {},
     "output_type": "execute_result"
    }
   ],
   "source": [
    "#Например было три типа привода передний задний и полный, осталось две колонки и мы можем однозначно определить, когда привод задний\n",
    "X_dumm.head()"
   ]
  },
  {
   "cell_type": "code",
   "execution_count": 83,
   "metadata": {},
   "outputs": [],
   "source": [
    "X = X.drop(['Привод', 'Тип двигателя', 'Тип коробки'],axis=1)\n",
    "X = pd.concat([X, X_dumm],axis=1)#Соединяем два поднабора данных"
   ]
  },
  {
   "cell_type": "code",
   "execution_count": 84,
   "metadata": {},
   "outputs": [
    {
     "data": {
      "text/html": [
       "<div>\n",
       "<style scoped>\n",
       "    .dataframe tbody tr th:only-of-type {\n",
       "        vertical-align: middle;\n",
       "    }\n",
       "\n",
       "    .dataframe tbody tr th {\n",
       "        vertical-align: top;\n",
       "    }\n",
       "\n",
       "    .dataframe thead th {\n",
       "        text-align: right;\n",
       "    }\n",
       "</style>\n",
       "<table border=\"1\" class=\"dataframe\">\n",
       "  <thead>\n",
       "    <tr style=\"text-align: right;\">\n",
       "      <th></th>\n",
       "      <th>seats</th>\n",
       "      <th>doors</th>\n",
       "      <th>Объем двигателя</th>\n",
       "      <th>Мощность л/с</th>\n",
       "      <th>Крутящий момент двигателя, H*м</th>\n",
       "      <th>Кол передач</th>\n",
       "      <th>Максимальная скорость, км/ч</th>\n",
       "      <th>Дорожный просвет, мм</th>\n",
       "      <th>Общий объм машины</th>\n",
       "      <th>Колёсная база, мм</th>\n",
       "      <th>...</th>\n",
       "      <th>Объём топливного бака, л</th>\n",
       "      <th>Масса автомобиля, кг</th>\n",
       "      <th>Привод_передний</th>\n",
       "      <th>Привод_полный</th>\n",
       "      <th>Тип двигателя_гибридный</th>\n",
       "      <th>Тип двигателя_дизельный</th>\n",
       "      <th>Тип двигателя_электрический</th>\n",
       "      <th>Тип коробки_вариатор</th>\n",
       "      <th>Тип коробки_механическая</th>\n",
       "      <th>Тип коробки_роботизированная</th>\n",
       "    </tr>\n",
       "  </thead>\n",
       "  <tbody>\n",
       "    <tr>\n",
       "      <th>0</th>\n",
       "      <td>5</td>\n",
       "      <td>4</td>\n",
       "      <td>1395</td>\n",
       "      <td>150</td>\n",
       "      <td>250</td>\n",
       "      <td>7</td>\n",
       "      <td>224</td>\n",
       "      <td>165</td>\n",
       "      <td>11337300288</td>\n",
       "      <td>2637</td>\n",
       "      <td>...</td>\n",
       "      <td>50</td>\n",
       "      <td>1320</td>\n",
       "      <td>1</td>\n",
       "      <td>0</td>\n",
       "      <td>0</td>\n",
       "      <td>0</td>\n",
       "      <td>0</td>\n",
       "      <td>0</td>\n",
       "      <td>0</td>\n",
       "      <td>1</td>\n",
       "    </tr>\n",
       "    <tr>\n",
       "      <th>1</th>\n",
       "      <td>5</td>\n",
       "      <td>4</td>\n",
       "      <td>1395</td>\n",
       "      <td>150</td>\n",
       "      <td>250</td>\n",
       "      <td>7</td>\n",
       "      <td>224</td>\n",
       "      <td>165</td>\n",
       "      <td>11337300288</td>\n",
       "      <td>2637</td>\n",
       "      <td>...</td>\n",
       "      <td>50</td>\n",
       "      <td>1320</td>\n",
       "      <td>1</td>\n",
       "      <td>0</td>\n",
       "      <td>0</td>\n",
       "      <td>0</td>\n",
       "      <td>0</td>\n",
       "      <td>0</td>\n",
       "      <td>0</td>\n",
       "      <td>1</td>\n",
       "    </tr>\n",
       "    <tr>\n",
       "      <th>2</th>\n",
       "      <td>5</td>\n",
       "      <td>4</td>\n",
       "      <td>1984</td>\n",
       "      <td>190</td>\n",
       "      <td>320</td>\n",
       "      <td>7</td>\n",
       "      <td>250</td>\n",
       "      <td>165</td>\n",
       "      <td>11337300288</td>\n",
       "      <td>2637</td>\n",
       "      <td>...</td>\n",
       "      <td>50</td>\n",
       "      <td>1395</td>\n",
       "      <td>1</td>\n",
       "      <td>0</td>\n",
       "      <td>0</td>\n",
       "      <td>0</td>\n",
       "      <td>0</td>\n",
       "      <td>0</td>\n",
       "      <td>0</td>\n",
       "      <td>1</td>\n",
       "    </tr>\n",
       "    <tr>\n",
       "      <th>3</th>\n",
       "      <td>5</td>\n",
       "      <td>4</td>\n",
       "      <td>1984</td>\n",
       "      <td>190</td>\n",
       "      <td>320</td>\n",
       "      <td>7</td>\n",
       "      <td>242</td>\n",
       "      <td>165</td>\n",
       "      <td>11337300288</td>\n",
       "      <td>2637</td>\n",
       "      <td>...</td>\n",
       "      <td>55</td>\n",
       "      <td>1465</td>\n",
       "      <td>0</td>\n",
       "      <td>1</td>\n",
       "      <td>0</td>\n",
       "      <td>0</td>\n",
       "      <td>0</td>\n",
       "      <td>0</td>\n",
       "      <td>0</td>\n",
       "      <td>1</td>\n",
       "    </tr>\n",
       "    <tr>\n",
       "      <th>4</th>\n",
       "      <td>5</td>\n",
       "      <td>4</td>\n",
       "      <td>1984</td>\n",
       "      <td>190</td>\n",
       "      <td>320</td>\n",
       "      <td>7</td>\n",
       "      <td>242</td>\n",
       "      <td>165</td>\n",
       "      <td>11337300288</td>\n",
       "      <td>2637</td>\n",
       "      <td>...</td>\n",
       "      <td>50</td>\n",
       "      <td>1395</td>\n",
       "      <td>1</td>\n",
       "      <td>0</td>\n",
       "      <td>0</td>\n",
       "      <td>0</td>\n",
       "      <td>0</td>\n",
       "      <td>0</td>\n",
       "      <td>0</td>\n",
       "      <td>1</td>\n",
       "    </tr>\n",
       "  </tbody>\n",
       "</table>\n",
       "<p>5 rows × 22 columns</p>\n",
       "</div>"
      ],
      "text/plain": [
       "   seats  doors  Объем двигателя  Мощность л/с  \\\n",
       "0      5      4             1395           150   \n",
       "1      5      4             1395           150   \n",
       "2      5      4             1984           190   \n",
       "3      5      4             1984           190   \n",
       "4      5      4             1984           190   \n",
       "\n",
       "   Крутящий момент двигателя, H*м  Кол передач  Максимальная скорость, км/ч  \\\n",
       "0                             250            7                          224   \n",
       "1                             250            7                          224   \n",
       "2                             320            7                          250   \n",
       "3                             320            7                          242   \n",
       "4                             320            7                          242   \n",
       "\n",
       "   Дорожный просвет, мм  Общий объм машины  Колёсная база, мм  ...  \\\n",
       "0                   165        11337300288               2637  ...   \n",
       "1                   165        11337300288               2637  ...   \n",
       "2                   165        11337300288               2637  ...   \n",
       "3                   165        11337300288               2637  ...   \n",
       "4                   165        11337300288               2637  ...   \n",
       "\n",
       "   Объём топливного бака, л  Масса автомобиля, кг  Привод_передний  \\\n",
       "0                        50                  1320                1   \n",
       "1                        50                  1320                1   \n",
       "2                        50                  1395                1   \n",
       "3                        55                  1465                0   \n",
       "4                        50                  1395                1   \n",
       "\n",
       "   Привод_полный  Тип двигателя_гибридный  Тип двигателя_дизельный  \\\n",
       "0              0                        0                        0   \n",
       "1              0                        0                        0   \n",
       "2              0                        0                        0   \n",
       "3              1                        0                        0   \n",
       "4              0                        0                        0   \n",
       "\n",
       "   Тип двигателя_электрический  Тип коробки_вариатор  \\\n",
       "0                            0                     0   \n",
       "1                            0                     0   \n",
       "2                            0                     0   \n",
       "3                            0                     0   \n",
       "4                            0                     0   \n",
       "\n",
       "   Тип коробки_механическая  Тип коробки_роботизированная  \n",
       "0                         0                             1  \n",
       "1                         0                             1  \n",
       "2                         0                             1  \n",
       "3                         0                             1  \n",
       "4                         0                             1  \n",
       "\n",
       "[5 rows x 22 columns]"
      ]
     },
     "execution_count": 84,
     "metadata": {},
     "output_type": "execute_result"
    }
   ],
   "source": [
    "X.head()"
   ]
  },
  {
   "cell_type": "code",
   "execution_count": 85,
   "metadata": {},
   "outputs": [],
   "source": [
    "#Делим исходный датасет на трейн 70 % и тест 30% данные -  с сохранением баланса меток классов \n",
    "X_train, X_test, y_train, y_test = train_test_split(X,y,test_size=0.3, random_state=24 , stratify=y)"
   ]
  },
  {
   "cell_type": "code",
   "execution_count": 102,
   "metadata": {},
   "outputs": [
    {
     "data": {
      "text/plain": [
       "((1030, 22), (442, 22))"
      ]
     },
     "execution_count": 102,
     "metadata": {},
     "output_type": "execute_result"
    }
   ],
   "source": [
    "X_train.shape, X_test.shape"
   ]
  },
  {
   "cell_type": "markdown",
   "metadata": {},
   "source": [
    "### Пробуем Decision Tree как базовую модель непараметрическую и не линейную"
   ]
  },
  {
   "cell_type": "code",
   "execution_count": 103,
   "metadata": {},
   "outputs": [],
   "source": [
    "#Обучение \n",
    "clf = tree.DecisionTreeClassifier(max_depth=5)\n",
    "clf = clf.fit(X_train, y_train)"
   ]
  },
  {
   "cell_type": "code",
   "execution_count": 104,
   "metadata": {},
   "outputs": [
    {
     "data": {
      "image/png": "[encoded data removed]",
      "text/plain": [
       "<Figure size 576x360 with 2 Axes>"
      ]
     },
     "metadata": {
      "needs_background": "light"
     },
     "output_type": "display_data"
    }
   ],
   "source": [
    "y_pred = clf.predict(X_test)\n",
    "# Plot confusion matrix\n",
    "fig, ax = plt.subplots(figsize=(8, 5))\n",
    "cmp = ConfusionMatrixDisplay(\n",
    "    confusion_matrix(y_test, y_pred),\n",
    "    display_labels=['Хетчбек','Кроссовер','Седан','Внедорожник'],\n",
    ")\n",
    "\n",
    "cmp.plot(ax=ax)\n",
    "plt.show();"
   ]
  },
  {
   "cell_type": "code",
   "execution_count": null,
   "metadata": {},
   "outputs": [],
   "source": [
    "DT плохо классфицируем внедорожник и кроссовер"
   ]
  },
  {
   "cell_type": "code",
   "execution_count": 105,
   "metadata": {},
   "outputs": [
    {
     "name": "stdout",
     "output_type": "stream",
     "text": [
      "Отчет для дерева решения глубиной 5\n",
      "              precision    recall  f1-score   support\n",
      "\n",
      " Внедорожник       0.96      0.83      0.89        52\n",
      "   Кроссовер       0.97      0.91      0.94       226\n",
      "       Седан       0.98      1.00      0.99       125\n",
      "     Хетчбек       0.67      0.97      0.79        39\n",
      "\n",
      "    accuracy                           0.93       442\n",
      "   macro avg       0.89      0.93      0.90       442\n",
      "weighted avg       0.94      0.93      0.93       442\n",
      "\n"
     ]
    }
   ],
   "source": [
    "from sklearn.metrics import classification_report\n",
    "print('Отчет для дерева решения глубиной 5')\n",
    "print(classification_report(y_test, y_pred))"
   ]
  },
  {
   "cell_type": "markdown",
   "metadata": {},
   "source": [
    "### Настройка Tree"
   ]
  },
  {
   "cell_type": "code",
   "execution_count": 126,
   "metadata": {},
   "outputs": [
    {
     "name": "stdout",
     "output_type": "stream",
     "text": [
      "Fitting 5 folds for each of 144 candidates, totalling 720 fits\n"
     ]
    },
    {
     "name": "stderr",
     "output_type": "stream",
     "text": [
      "[Parallel(n_jobs=-1)]: Using backend LokyBackend with 2 concurrent workers.\n",
      "[Parallel(n_jobs=-1)]: Done 132 tasks      | elapsed:   17.5s\n",
      "[Parallel(n_jobs=-1)]: Done 720 out of 720 | elapsed:   24.3s finished\n"
     ]
    },
    {
     "data": {
      "text/plain": [
       "GridSearchCV(cv=5,\n",
       "             estimator=DecisionTreeClassifier(max_depth=5, random_state=17),\n",
       "             n_jobs=-1,\n",
       "             param_grid={'max_depth': range(2, 11),\n",
       "                         'min_samples_leaf': range(1, 5),\n",
       "                         'min_samples_split': range(1, 5)},\n",
       "             verbose=True)"
      ]
     },
     "execution_count": 126,
     "metadata": {},
     "output_type": "execute_result"
    }
   ],
   "source": [
    "clf = tree.DecisionTreeClassifier(max_depth=5,random_state=17)\n",
    "tree_params = {'max_depth': range(2,11),'min_samples_leaf':range(1,5), 'min_samples_split' : range(1,5)}\n",
    "\n",
    "locally_best_tree = GridSearchCV(clf, tree_params, cv=5, n_jobs=-1, verbose=True)                      \n",
    "\n",
    "locally_best_tree.fit(X_train, y_train)"
   ]
  },
  {
   "cell_type": "code",
   "execution_count": 127,
   "metadata": {},
   "outputs": [
    {
     "name": "stdout",
     "output_type": "stream",
     "text": [
      "Best params: {'max_depth': 8, 'min_samples_leaf': 1, 'min_samples_split': 2}\n"
     ]
    }
   ],
   "source": [
    "print(\"Best params:\", locally_best_tree.best_params_)"
   ]
  },
  {
   "cell_type": "code",
   "execution_count": 128,
   "metadata": {},
   "outputs": [],
   "source": [
    "tuned_tree = tree.DecisionTreeClassifier(max_depth=8, random_state=17)\n",
    "tuned_tree.fit(X_train,y_train)\n",
    "tuned_tree_predictions = tuned_tree.predict(X_test)"
   ]
  },
  {
   "cell_type": "code",
   "execution_count": 129,
   "metadata": {},
   "outputs": [
    {
     "data": {
      "image/png": "[encoded data removed]",
      "text/plain": [
       "<Figure size 576x360 with 2 Axes>"
      ]
     },
     "metadata": {
      "needs_background": "light"
     },
     "output_type": "display_data"
    }
   ],
   "source": [
    "fig, ax = plt.subplots(figsize=(8, 5))\n",
    "cmp = ConfusionMatrixDisplay(\n",
    "    confusion_matrix(y_test, tuned_tree_predictions),\n",
    "    display_labels=['Хетчбек','Кроссовер','Седан','Внедорожник'],\n",
    ")\n",
    "\n",
    "cmp.plot(ax=ax)\n",
    "plt.show();"
   ]
  },
  {
   "cell_type": "code",
   "execution_count": 130,
   "metadata": {},
   "outputs": [
    {
     "name": "stdout",
     "output_type": "stream",
     "text": [
      "Отчет для дерева решения глубиной 8\n",
      "              precision    recall  f1-score   support\n",
      "\n",
      " Внедорожник       0.94      0.96      0.95        52\n",
      "   Кроссовер       0.99      0.98      0.99       226\n",
      "       Седан       1.00      1.00      1.00       125\n",
      "     Хетчбек       0.97      1.00      0.99        39\n",
      "\n",
      "    accuracy                           0.99       442\n",
      "   macro avg       0.98      0.99      0.98       442\n",
      "weighted avg       0.99      0.99      0.99       442\n",
      "\n"
     ]
    }
   ],
   "source": [
    "print('Отчет для дерева решения глубиной 8')\n",
    "print(classification_report(y_test, tuned_tree_predictions))"
   ]
  },
  {
   "cell_type": "code",
   "execution_count": 131,
   "metadata": {},
   "outputs": [
    {
     "data": {
      "text/html": [
       "<div>\n",
       "<style scoped>\n",
       "    .dataframe tbody tr th:only-of-type {\n",
       "        vertical-align: middle;\n",
       "    }\n",
       "\n",
       "    .dataframe tbody tr th {\n",
       "        vertical-align: top;\n",
       "    }\n",
       "\n",
       "    .dataframe thead th {\n",
       "        text-align: right;\n",
       "    }\n",
       "</style>\n",
       "<table border=\"1\" class=\"dataframe\">\n",
       "  <thead>\n",
       "    <tr style=\"text-align: right;\">\n",
       "      <th></th>\n",
       "      <th>feature</th>\n",
       "      <th>importance</th>\n",
       "    </tr>\n",
       "  </thead>\n",
       "  <tbody>\n",
       "    <tr>\n",
       "      <th>1</th>\n",
       "      <td>doors</td>\n",
       "      <td>0.3874</td>\n",
       "    </tr>\n",
       "    <tr>\n",
       "      <th>12</th>\n",
       "      <td>Объём топливного бака, л</td>\n",
       "      <td>0.2085</td>\n",
       "    </tr>\n",
       "    <tr>\n",
       "      <th>7</th>\n",
       "      <td>Дорожный просвет, мм</td>\n",
       "      <td>0.1684</td>\n",
       "    </tr>\n",
       "    <tr>\n",
       "      <th>8</th>\n",
       "      <td>Общий объм машины</td>\n",
       "      <td>0.0712</td>\n",
       "    </tr>\n",
       "    <tr>\n",
       "      <th>0</th>\n",
       "      <td>seats</td>\n",
       "      <td>0.0405</td>\n",
       "    </tr>\n",
       "    <tr>\n",
       "      <th>13</th>\n",
       "      <td>Масса автомобиля, кг</td>\n",
       "      <td>0.0351</td>\n",
       "    </tr>\n",
       "    <tr>\n",
       "      <th>6</th>\n",
       "      <td>Максимальная скорость, км/ч</td>\n",
       "      <td>0.0268</td>\n",
       "    </tr>\n",
       "    <tr>\n",
       "      <th>5</th>\n",
       "      <td>Кол передач</td>\n",
       "      <td>0.0205</td>\n",
       "    </tr>\n",
       "    <tr>\n",
       "      <th>10</th>\n",
       "      <td>Объём багажника, л</td>\n",
       "      <td>0.0148</td>\n",
       "    </tr>\n",
       "    <tr>\n",
       "      <th>9</th>\n",
       "      <td>Колёсная база, мм</td>\n",
       "      <td>0.0092</td>\n",
       "    </tr>\n",
       "    <tr>\n",
       "      <th>11</th>\n",
       "      <td>Объём багажника макс, л</td>\n",
       "      <td>0.0088</td>\n",
       "    </tr>\n",
       "    <tr>\n",
       "      <th>3</th>\n",
       "      <td>Мощность л/с</td>\n",
       "      <td>0.0087</td>\n",
       "    </tr>\n",
       "    <tr>\n",
       "      <th>4</th>\n",
       "      <td>Крутящий момент двигателя, H*м</td>\n",
       "      <td>0.0000</td>\n",
       "    </tr>\n",
       "    <tr>\n",
       "      <th>2</th>\n",
       "      <td>Объем двигателя</td>\n",
       "      <td>0.0000</td>\n",
       "    </tr>\n",
       "    <tr>\n",
       "      <th>14</th>\n",
       "      <td>Привод_передний</td>\n",
       "      <td>0.0000</td>\n",
       "    </tr>\n",
       "    <tr>\n",
       "      <th>15</th>\n",
       "      <td>Привод_полный</td>\n",
       "      <td>0.0000</td>\n",
       "    </tr>\n",
       "    <tr>\n",
       "      <th>16</th>\n",
       "      <td>Тип двигателя_гибридный</td>\n",
       "      <td>0.0000</td>\n",
       "    </tr>\n",
       "    <tr>\n",
       "      <th>17</th>\n",
       "      <td>Тип двигателя_дизельный</td>\n",
       "      <td>0.0000</td>\n",
       "    </tr>\n",
       "    <tr>\n",
       "      <th>18</th>\n",
       "      <td>Тип двигателя_электрический</td>\n",
       "      <td>0.0000</td>\n",
       "    </tr>\n",
       "    <tr>\n",
       "      <th>19</th>\n",
       "      <td>Тип коробки_вариатор</td>\n",
       "      <td>0.0000</td>\n",
       "    </tr>\n",
       "    <tr>\n",
       "      <th>20</th>\n",
       "      <td>Тип коробки_механическая</td>\n",
       "      <td>0.0000</td>\n",
       "    </tr>\n",
       "    <tr>\n",
       "      <th>21</th>\n",
       "      <td>Тип коробки_роботизированная</td>\n",
       "      <td>0.0000</td>\n",
       "    </tr>\n",
       "  </tbody>\n",
       "</table>\n",
       "</div>"
      ],
      "text/plain": [
       "                           feature  importance\n",
       "1                            doors      0.3874\n",
       "12        Объём топливного бака, л      0.2085\n",
       "7             Дорожный просвет, мм      0.1684\n",
       "8                Общий объм машины      0.0712\n",
       "0                            seats      0.0405\n",
       "13            Масса автомобиля, кг      0.0351\n",
       "6      Максимальная скорость, км/ч      0.0268\n",
       "5                      Кол передач      0.0205\n",
       "10              Объём багажника, л      0.0148\n",
       "9                Колёсная база, мм      0.0092\n",
       "11         Объём багажника макс, л      0.0088\n",
       "3                     Мощность л/с      0.0087\n",
       "4   Крутящий момент двигателя, H*м      0.0000\n",
       "2                  Объем двигателя      0.0000\n",
       "14                 Привод_передний      0.0000\n",
       "15                   Привод_полный      0.0000\n",
       "16         Тип двигателя_гибридный      0.0000\n",
       "17         Тип двигателя_дизельный      0.0000\n",
       "18     Тип двигателя_электрический      0.0000\n",
       "19            Тип коробки_вариатор      0.0000\n",
       "20        Тип коробки_механическая      0.0000\n",
       "21    Тип коробки_роботизированная      0.0000"
      ]
     },
     "execution_count": 131,
     "metadata": {},
     "output_type": "execute_result"
    }
   ],
   "source": [
    "importances = pd.DataFrame({'feature':list(X), 'importance': np.round(tuned_tree.feature_importances_,4)})\n",
    "importances = importances.sort_values('importance',ascending =False)\n",
    "importances"
   ]
  },
  {
   "cell_type": "markdown",
   "metadata": {},
   "source": [
    "### Random Forest"
   ]
  },
  {
   "cell_type": "code",
   "execution_count": 132,
   "metadata": {},
   "outputs": [],
   "source": [
    "rf = RandomForestClassifier(n_estimators=100, random_state = 17)\n",
    "rf.fit(X_train,y_train)\n",
    "forest_predictions = rf.predict(X_test)"
   ]
  },
  {
   "cell_type": "code",
   "execution_count": 133,
   "metadata": {},
   "outputs": [
    {
     "data": {
      "image/png": "[encoded data removed]",
      "text/plain": [
       "<Figure size 576x360 with 2 Axes>"
      ]
     },
     "metadata": {
      "needs_background": "light"
     },
     "output_type": "display_data"
    }
   ],
   "source": [
    "fig, ax = plt.subplots(figsize=(8, 5))\n",
    "cmp = ConfusionMatrixDisplay(\n",
    "    confusion_matrix(y_test, forest_predictions),\n",
    "    display_labels=['Хетчбек','Кроссовер','Седан','Внедорожник'],\n",
    ")\n",
    "\n",
    "cmp.plot(ax=ax)\n",
    "plt.show();"
   ]
  },
  {
   "cell_type": "code",
   "execution_count": 134,
   "metadata": {},
   "outputs": [
    {
     "name": "stdout",
     "output_type": "stream",
     "text": [
      "Отчет для ансамблей деревьев\n",
      "              precision    recall  f1-score   support\n",
      "\n",
      " Внедорожник       0.94      0.96      0.95        52\n",
      "   Кроссовер       0.99      0.99      0.99       226\n",
      "       Седан       1.00      1.00      1.00       125\n",
      "     Хетчбек       1.00      1.00      1.00        39\n",
      "\n",
      "    accuracy                           0.99       442\n",
      "   macro avg       0.98      0.99      0.99       442\n",
      "weighted avg       0.99      0.99      0.99       442\n",
      "\n"
     ]
    }
   ],
   "source": [
    "print('Отчет для ансамблей деревьев')\n",
    "print(classification_report(y_test, forest_predictions))"
   ]
  },
  {
   "cell_type": "markdown",
   "metadata": {},
   "source": [
    "### Попробуем классификатор KNN  непараметрический и не линейный"
   ]
  },
  {
   "cell_type": "code",
   "execution_count": 96,
   "metadata": {},
   "outputs": [
    {
     "data": {
      "image/png": "[encoded data removed]",
      "text/plain": [
       "<Figure size 936x576 with 1 Axes>"
      ]
     },
     "metadata": {
      "needs_background": "light"
     },
     "output_type": "display_data"
    }
   ],
   "source": [
    "#Чтобы установить оптимальное значение K-соседей, я использовал метод локтя;\n",
    "#на графике ниже показана частота ошибок при 10 значениях K.\n",
    "#Частота ошибок рассчитывается как среднее значение, \n",
    "#когда прогнозируемое значение не равно фактическому значению\n",
    "# частота ошибок уменьшается; впоследствии она имеет тенденцию увеличиваться и насыщаться для некоторых значений K, \n",
    "#и эта закономерность прослеживается по всему графику.\n",
    "error_rate=[]\n",
    "for i in range(1,10):\n",
    "            knn = KNeighborsClassifier(n_neighbors=i)\n",
    "            model = knn.fit(X_train,y_train)\n",
    "            pred_i = knn.predict(X_test)\n",
    "            error_rate.append(np.mean(pred_i != y_test))\n",
    "plt.figure(figsize=(13,8))\n",
    "plt.plot(range(1,10), error_rate, linestyle = 'dotted', marker = 'o',color = 'g')\n",
    "plt.xlabel('Кол. ближ. соседей')\n",
    "plt.ylabel('Ошибка')\n",
    "plt.title('Кол. ближ. соседей Vs Ошибка')\n",
    "plt.show() "
   ]
  },
  {
   "cell_type": "code",
   "execution_count": 107,
   "metadata": {},
   "outputs": [],
   "source": [
    "#примем K = 1\n",
    "knn = KNeighborsClassifier(n_neighbors=1)\n",
    "model = knn.fit(X_train,y_train)\n",
    "y_pred = knn.predict(X_test)"
   ]
  },
  {
   "cell_type": "code",
   "execution_count": 108,
   "metadata": {},
   "outputs": [
    {
     "data": {
      "image/png": "[encoded data removed]",
      "text/plain": [
       "<Figure size 576x360 with 2 Axes>"
      ]
     },
     "metadata": {
      "needs_background": "light"
     },
     "output_type": "display_data"
    }
   ],
   "source": [
    "fig, ax = plt.subplots(figsize=(8, 5))\n",
    "cmp = ConfusionMatrixDisplay(\n",
    "    confusion_matrix(y_test, y_pred),\n",
    "    display_labels=['Хетчбек','Кроссовер','Седан','Внедорожник'],\n",
    ")\n",
    "\n",
    "cmp.plot(ax=ax)\n",
    "plt.show();"
   ]
  },
  {
   "cell_type": "code",
   "execution_count": null,
   "metadata": {},
   "outputs": [],
   "source": [
    "#Конечно для KNN нужно нормализация данных , но даже так он работает  отлично"
   ]
  },
  {
   "cell_type": "code",
   "execution_count": 109,
   "metadata": {},
   "outputs": [
    {
     "name": "stdout",
     "output_type": "stream",
     "text": [
      "              precision    recall  f1-score   support\n",
      "\n",
      " Внедорожник       0.98      0.96      0.97        52\n",
      "   Кроссовер       0.98      0.98      0.98       226\n",
      "       Седан       0.98      1.00      0.99       125\n",
      "     Хетчбек       0.97      0.95      0.96        39\n",
      "\n",
      "    accuracy                           0.98       442\n",
      "   macro avg       0.98      0.97      0.98       442\n",
      "weighted avg       0.98      0.98      0.98       442\n",
      "\n"
     ]
    }
   ],
   "source": [
    "print(classification_report(y_test, y_pred))"
   ]
  },
  {
   "cell_type": "markdown",
   "metadata": {},
   "source": [
    "#### Попробуем один линейный классификатор используя технику OvA для этого нужно провести нормализацию данных"
   ]
  },
  {
   "cell_type": "code",
   "execution_count": 115,
   "metadata": {},
   "outputs": [],
   "source": [
    "to_log = ['Крутящий момент двигателя, H*м','Масса автомобиля, кг','Мощность'] \n",
    "to_scale = ['Объем двигателя','Максимальная скорость, км/ч','Дорожный просвет, мм','Общий объм машины','Колёсная база, мм',\\\n",
    "'Объём багажника, л','Объём багажника макс, л','Объём топливного бака, л']"
   ]
  },
  {
   "cell_type": "code",
   "execution_count": 117,
   "metadata": {},
   "outputs": [
    {
     "data": {
      "text/plain": [
       "LogisticRegression(multi_class='ovr', solver='liblinear')"
      ]
     },
     "execution_count": 117,
     "metadata": {},
     "output_type": "execute_result"
    }
   ],
   "source": [
    "lm = LogisticRegression(multi_class='ovr', solver='liblinear')\n",
    "lm.fit(X_train, y_train)"
   ]
  },
  {
   "cell_type": "markdown",
   "metadata": {},
   "source": [
    "###  Не успевал доделать"
   ]
  },
  {
   "cell_type": "code",
   "execution_count": 123,
   "metadata": {},
   "outputs": [],
   "source": [
    "#Без нормиования признаков, не работает. Не успевал доделать\n",
    "y_pred = lm.predict(X_test)"
   ]
  },
  {
   "cell_type": "code",
   "execution_count": 124,
   "metadata": {},
   "outputs": [
    {
     "data": {
      "image/png": "[encoded data removed]",
      "text/plain": [
       "<Figure size 576x360 with 2 Axes>"
      ]
     },
     "metadata": {
      "needs_background": "light"
     },
     "output_type": "display_data"
    }
   ],
   "source": [
    "fig, ax = plt.subplots(figsize=(8, 5))\n",
    "cmp = ConfusionMatrixDisplay(\n",
    "    confusion_matrix(y_test, y_pred),\n",
    "    display_labels=['Хетчбек','Кроссовер','Седан','Внедорожник'],\n",
    ")\n",
    "\n",
    "cmp.plot(ax=ax)\n",
    "plt.show();"
   ]
  }
 ],
 "metadata": {
  "kernelspec": {
   "display_name": "Python 3",
   "language": "python",
   "name": "python3"
  },
  "language_info": {
   "codemirror_mode": {
    "name": "ipython",
    "version": 3
   },
   "file_extension": ".py",
   "mimetype": "text/x-python",
   "name": "python",
   "nbconvert_exporter": "python",
   "pygments_lexer": "ipython3",
   "version": "3.8.3"
  }
 },
 "nbformat": 4,
 "nbformat_minor": 4
}
